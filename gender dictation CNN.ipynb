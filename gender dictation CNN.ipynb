{
 "cells": [
  {
   "cell_type": "code",
   "execution_count": 1,
   "id": "254e6d81",
   "metadata": {},
   "outputs": [],
   "source": [
    "import cv2\n",
    "import pandas as pd\n",
    "import numpy as np\n",
    "import matplotlib.pyplot as plt\n",
    "import tensorflow as tf"
   ]
  },
  {
   "cell_type": "code",
   "execution_count": 2,
   "id": "c4b11ddb",
   "metadata": {},
   "outputs": [],
   "source": [
    "import os\n"
   ]
  },
  {
   "cell_type": "code",
   "execution_count": 4,
   "id": "390f2081",
   "metadata": {},
   "outputs": [],
   "source": [
    "path=\"C:/Users/nvk90/OneDrive/Desktop/DATASETS/project datasets/Gender/Gender/\""
   ]
  },
  {
   "cell_type": "code",
   "execution_count": 5,
   "id": "fd7f6e47",
   "metadata": {},
   "outputs": [],
   "source": [
    "path_male=path+\"male/\""
   ]
  },
  {
   "cell_type": "code",
   "execution_count": 6,
   "id": "0caa9c36",
   "metadata": {},
   "outputs": [],
   "source": [
    "path_female=path+\"female/\""
   ]
  },
  {
   "cell_type": "code",
   "execution_count": 7,
   "id": "fcbe7d53",
   "metadata": {},
   "outputs": [
    {
     "data": {
      "text/plain": [
       "['090544.jpg.jpg',\n",
       " '090545.jpg.jpg',\n",
       " '090548.jpg.jpg',\n",
       " '090550.jpg.jpg',\n",
       " '090553.jpg.jpg',\n",
       " '090557.jpg.jpg',\n",
       " '090558.jpg.jpg',\n",
       " '090559.jpg.jpg',\n",
       " '090563.jpg.jpg',\n",
       " '090567.jpg.jpg',\n",
       " '090570.jpg.jpg',\n",
       " '090571.jpg.jpg',\n",
       " '090574.jpg.jpg',\n",
       " '090575.jpg.jpg',\n",
       " '090579.jpg.jpg',\n",
       " '090581.jpg.jpg',\n",
       " '090584.jpg.jpg',\n",
       " '090586.jpg.jpg',\n",
       " '090590.jpg.jpg',\n",
       " '090594.jpg.jpg',\n",
       " '090597.jpg.jpg',\n",
       " '090603.jpg.jpg',\n",
       " '090608.jpg.jpg',\n",
       " '090610.jpg.jpg',\n",
       " '090612.jpg.jpg',\n",
       " '090614.jpg.jpg',\n",
       " '090631.jpg.jpg',\n",
       " '090634.jpg.jpg',\n",
       " '090639.jpg.jpg',\n",
       " '090646.jpg.jpg',\n",
       " '090648.jpg.jpg',\n",
       " '090652.jpg.jpg',\n",
       " '090662.jpg.jpg',\n",
       " '090663.jpg.jpg',\n",
       " '090665.jpg.jpg',\n",
       " '090668.jpg.jpg',\n",
       " '090671.jpg.jpg',\n",
       " '090674.jpg.jpg',\n",
       " '090678.jpg.jpg',\n",
       " '090682.jpg.jpg',\n",
       " '090690.jpg.jpg',\n",
       " '090694.jpg.jpg',\n",
       " '090699.jpg.jpg',\n",
       " '090700.jpg.jpg',\n",
       " '090706.jpg.jpg',\n",
       " '090708.jpg.jpg',\n",
       " '090718.jpg.jpg',\n",
       " '090720.jpg.jpg',\n",
       " '090723.jpg.jpg',\n",
       " '090729.jpg.jpg',\n",
       " '090732.jpg.jpg',\n",
       " '090746.jpg.jpg',\n",
       " '090751.jpg.jpg',\n",
       " '090752.jpg.jpg',\n",
       " '090755.jpg.jpg',\n",
       " '090762.jpg.jpg',\n",
       " '090767.jpg.jpg',\n",
       " '090768.jpg.jpg',\n",
       " '090774.jpg.jpg',\n",
       " '090780.jpg.jpg',\n",
       " '090781.jpg.jpg',\n",
       " '090782.jpg.jpg',\n",
       " '090783.jpg.jpg',\n",
       " '090795.jpg.jpg',\n",
       " '090796.jpg.jpg',\n",
       " '090797.jpg.jpg',\n",
       " '090798.jpg.jpg',\n",
       " '090809.jpg.jpg',\n",
       " '090813.jpg.jpg',\n",
       " '090818.jpg.jpg',\n",
       " '090827.jpg.jpg',\n",
       " '090853.jpg.jpg',\n",
       " '090857.jpg.jpg',\n",
       " '090858.jpg.jpg',\n",
       " '090865.jpg.jpg',\n",
       " '090888.jpg.jpg',\n",
       " '090893.jpg.jpg',\n",
       " '090894.jpg.jpg',\n",
       " '090901.jpg.jpg',\n",
       " '090906.jpg.jpg',\n",
       " '090908.jpg.jpg',\n",
       " '090917.jpg.jpg',\n",
       " '090934.jpg.jpg',\n",
       " '090944.jpg.jpg',\n",
       " '090946.jpg.jpg',\n",
       " '090952.jpg.jpg',\n",
       " '090958.jpg.jpg',\n",
       " '090960.jpg.jpg',\n",
       " '090962.jpg.jpg',\n",
       " '090964.jpg.jpg',\n",
       " '090965.jpg.jpg',\n",
       " '090966.jpg.jpg',\n",
       " '090967.jpg.jpg',\n",
       " '090969.jpg.jpg',\n",
       " '090972.jpg.jpg',\n",
       " '090974.jpg.jpg',\n",
       " '090978.jpg.jpg',\n",
       " '090979.jpg.jpg',\n",
       " '090982.jpg.jpg',\n",
       " '090983.jpg.jpg',\n",
       " '090984.jpg.jpg',\n",
       " '090985.jpg.jpg',\n",
       " '090986.jpg.jpg',\n",
       " '090988.jpg.jpg',\n",
       " '090990.jpg.jpg',\n",
       " '090996.jpg.jpg',\n",
       " '090997.jpg.jpg',\n",
       " '091002.jpg.jpg',\n",
       " '091004.jpg.jpg',\n",
       " '091008.jpg.jpg',\n",
       " '091010.jpg.jpg',\n",
       " '091013.jpg.jpg',\n",
       " '091015.jpg.jpg',\n",
       " '091019.jpg.jpg',\n",
       " '091020.jpg.jpg',\n",
       " '091023.jpg.jpg',\n",
       " '091025.jpg.jpg',\n",
       " '091028.jpg.jpg',\n",
       " '091049.jpg.jpg',\n",
       " '091050.jpg.jpg',\n",
       " '091053.jpg.jpg',\n",
       " '091063.jpg.jpg',\n",
       " '091065.jpg.jpg',\n",
       " '091072.jpg.jpg',\n",
       " '091073.jpg.jpg',\n",
       " '091080.jpg.jpg',\n",
       " '091083.jpg.jpg',\n",
       " '091088.jpg.jpg',\n",
       " '091092.jpg.jpg',\n",
       " '091093.jpg.jpg',\n",
       " '091095.jpg.jpg',\n",
       " '091099.jpg.jpg',\n",
       " '091105.jpg.jpg',\n",
       " '091107.jpg.jpg',\n",
       " '091111.jpg.jpg',\n",
       " '091112.jpg.jpg',\n",
       " '091113.jpg.jpg',\n",
       " '091118.jpg.jpg',\n",
       " '091126.jpg.jpg',\n",
       " '091127.jpg.jpg',\n",
       " '091134.jpg.jpg',\n",
       " '091136.jpg.jpg',\n",
       " '091142.jpg.jpg',\n",
       " '091147.jpg.jpg',\n",
       " '091148.jpg.jpg',\n",
       " '091158.jpg.jpg',\n",
       " '091159.jpg.jpg',\n",
       " '091161.jpg.jpg',\n",
       " '091171.jpg.jpg',\n",
       " '091176.jpg.jpg',\n",
       " '091177.jpg.jpg',\n",
       " '091178.jpg.jpg',\n",
       " '091189.jpg.jpg',\n",
       " '091195.jpg.jpg',\n",
       " '091201.jpg.jpg',\n",
       " '091204.jpg.jpg',\n",
       " '091205.jpg.jpg',\n",
       " '091206.jpg.jpg',\n",
       " '091210.jpg.jpg',\n",
       " '091212.jpg.jpg',\n",
       " '091218.jpg.jpg',\n",
       " '091228.jpg.jpg',\n",
       " '091229.jpg.jpg',\n",
       " '091232.jpg.jpg',\n",
       " '091246.jpg.jpg',\n",
       " '091247.jpg.jpg',\n",
       " '091249.jpg.jpg',\n",
       " '091252.jpg.jpg',\n",
       " '091265.jpg.jpg',\n",
       " '091267.jpg.jpg',\n",
       " '091270.jpg.jpg',\n",
       " '091279.jpg.jpg',\n",
       " '091280.jpg.jpg',\n",
       " '091281.jpg.jpg',\n",
       " '091283.jpg.jpg',\n",
       " '091286.jpg.jpg',\n",
       " '091290.jpg.jpg',\n",
       " '091291.jpg.jpg',\n",
       " '091304.jpg.jpg',\n",
       " '091305.jpg.jpg',\n",
       " '091313.jpg.jpg',\n",
       " '091314.jpg.jpg',\n",
       " '091315.jpg.jpg',\n",
       " '091316.jpg.jpg',\n",
       " '091318.jpg.jpg',\n",
       " '091319.jpg.jpg',\n",
       " '091323.jpg.jpg',\n",
       " '091324.jpg.jpg',\n",
       " '091326.jpg.jpg',\n",
       " '091328.jpg.jpg',\n",
       " '091329.jpg.jpg',\n",
       " '091343.jpg.jpg',\n",
       " '091349.jpg.jpg',\n",
       " '091354.jpg.jpg',\n",
       " '091358.jpg.jpg',\n",
       " '091371.jpg.jpg',\n",
       " '091379.jpg.jpg',\n",
       " '091380.jpg.jpg',\n",
       " '091381.jpg.jpg',\n",
       " '091384.jpg.jpg',\n",
       " '091386.jpg.jpg',\n",
       " '091387.jpg.jpg',\n",
       " '091393.jpg.jpg',\n",
       " '091397.jpg.jpg',\n",
       " '091400.jpg.jpg',\n",
       " '091402.jpg.jpg',\n",
       " '091404.jpg.jpg',\n",
       " '091405.jpg.jpg',\n",
       " '091407.jpg.jpg',\n",
       " '091408.jpg.jpg',\n",
       " '091413.jpg.jpg',\n",
       " '091417.jpg.jpg',\n",
       " '091419.jpg.jpg',\n",
       " '091420.jpg.jpg',\n",
       " '091422.jpg.jpg',\n",
       " '091425.jpg.jpg',\n",
       " '091426.jpg.jpg',\n",
       " '091433.jpg.jpg',\n",
       " '091435.jpg.jpg',\n",
       " '091436.jpg.jpg',\n",
       " '091441.jpg.jpg',\n",
       " '091443.jpg.jpg',\n",
       " '091448.jpg.jpg',\n",
       " '091450.jpg.jpg',\n",
       " '091455.jpg.jpg',\n",
       " '091466.jpg.jpg',\n",
       " '091473.jpg.jpg',\n",
       " '091478.jpg.jpg',\n",
       " '091479.jpg.jpg',\n",
       " '091482.jpg.jpg',\n",
       " '091486.jpg.jpg',\n",
       " '091490.jpg.jpg',\n",
       " '091497.jpg.jpg',\n",
       " '091498.jpg.jpg',\n",
       " '091500.jpg.jpg',\n",
       " '091501.jpg.jpg',\n",
       " '091503.jpg.jpg',\n",
       " '091523.jpg.jpg',\n",
       " '091526.jpg.jpg',\n",
       " '091529.jpg.jpg',\n",
       " '091530.jpg.jpg',\n",
       " '091537.jpg.jpg',\n",
       " '091543.jpg.jpg',\n",
       " '091546.jpg.jpg',\n",
       " '091548.jpg.jpg',\n",
       " '091551.jpg.jpg',\n",
       " '091559.jpg.jpg',\n",
       " '091568.jpg.jpg',\n",
       " '091569.jpg.jpg',\n",
       " '091570.jpg.jpg',\n",
       " '091577.jpg.jpg',\n",
       " '091580.jpg.jpg',\n",
       " '091581.jpg.jpg',\n",
       " '091587.jpg.jpg',\n",
       " '091591.jpg.jpg',\n",
       " '091597.jpg.jpg',\n",
       " '091598.jpg.jpg',\n",
       " '091602.jpg.jpg',\n",
       " '091607.jpg.jpg',\n",
       " '091609.jpg.jpg',\n",
       " '091611.jpg.jpg',\n",
       " '091615.jpg.jpg',\n",
       " '091616.jpg.jpg',\n",
       " '091618.jpg.jpg',\n",
       " '091619.jpg.jpg',\n",
       " '091633.jpg.jpg',\n",
       " '091634.jpg.jpg',\n",
       " '091642.jpg.jpg',\n",
       " '091643.jpg.jpg',\n",
       " '091645.jpg.jpg',\n",
       " '091650.jpg.jpg',\n",
       " '091651.jpg.jpg',\n",
       " '091653.jpg.jpg',\n",
       " '091655.jpg.jpg',\n",
       " '091659.jpg.jpg',\n",
       " '091663.jpg.jpg',\n",
       " '091671.jpg.jpg',\n",
       " '091673.jpg.jpg',\n",
       " '091678.jpg.jpg',\n",
       " '091685.jpg.jpg',\n",
       " '091686.jpg.jpg',\n",
       " '091687.jpg.jpg',\n",
       " '091690.jpg.jpg',\n",
       " '091694.jpg.jpg',\n",
       " '091702.jpg.jpg',\n",
       " '091705.jpg.jpg',\n",
       " '091706.jpg.jpg',\n",
       " '091712.jpg.jpg',\n",
       " '091715.jpg.jpg',\n",
       " '091716.jpg.jpg',\n",
       " '091718.jpg.jpg',\n",
       " '091725.jpg.jpg',\n",
       " '091745.jpg.jpg',\n",
       " '091746.jpg.jpg',\n",
       " '091749.jpg.jpg',\n",
       " '091750.jpg.jpg',\n",
       " '091756.jpg.jpg',\n",
       " '091760.jpg.jpg',\n",
       " '091767.jpg.jpg',\n",
       " '091770.jpg.jpg',\n",
       " '091774.jpg.jpg',\n",
       " '091782.jpg.jpg',\n",
       " '091783.jpg.jpg',\n",
       " '091795.jpg.jpg',\n",
       " '091813.jpg.jpg',\n",
       " '091815.jpg.jpg',\n",
       " '091824.jpg.jpg',\n",
       " '091825.jpg.jpg',\n",
       " '091829.jpg.jpg',\n",
       " '091835.jpg.jpg',\n",
       " '091840.jpg.jpg',\n",
       " '091847.jpg.jpg',\n",
       " '091859.jpg.jpg',\n",
       " '091861.jpg.jpg',\n",
       " '091864.jpg.jpg',\n",
       " '091867.jpg.jpg',\n",
       " '091871.jpg.jpg',\n",
       " '091886.jpg.jpg',\n",
       " '091888.jpg.jpg',\n",
       " '091890.jpg.jpg',\n",
       " '091900.jpg.jpg',\n",
       " '091904.jpg.jpg',\n",
       " '091907.jpg.jpg',\n",
       " '091910.jpg.jpg',\n",
       " '091927.jpg.jpg',\n",
       " '091930.jpg.jpg',\n",
       " '091938.jpg.jpg',\n",
       " '091941.jpg.jpg',\n",
       " '091945.jpg.jpg',\n",
       " '091951.jpg.jpg',\n",
       " '091953.jpg.jpg',\n",
       " '091954.jpg.jpg',\n",
       " '091956.jpg.jpg',\n",
       " '091958.jpg.jpg',\n",
       " '091965.jpg.jpg',\n",
       " '091966.jpg.jpg',\n",
       " '091975.jpg.jpg',\n",
       " '091977.jpg.jpg',\n",
       " '091989.jpg.jpg',\n",
       " '091994.jpg.jpg',\n",
       " '092004.jpg.jpg',\n",
       " '092007.jpg.jpg',\n",
       " '092013.jpg.jpg',\n",
       " '092015.jpg.jpg',\n",
       " '092023.jpg.jpg',\n",
       " '092025.jpg.jpg',\n",
       " '092027.jpg.jpg',\n",
       " '092033.jpg.jpg',\n",
       " '092034.jpg.jpg',\n",
       " '092037.jpg.jpg',\n",
       " '092040.jpg.jpg',\n",
       " '092041.jpg.jpg',\n",
       " '092045.jpg.jpg',\n",
       " '092046.jpg.jpg',\n",
       " '092055.jpg.jpg',\n",
       " '092070.jpg.jpg',\n",
       " '092073.jpg.jpg',\n",
       " '092076.jpg.jpg',\n",
       " '092079.jpg.jpg',\n",
       " '092084.jpg.jpg',\n",
       " '092100.jpg.jpg',\n",
       " '092103.jpg.jpg',\n",
       " '092115.jpg.jpg',\n",
       " '092119.jpg.jpg',\n",
       " '092127.jpg.jpg',\n",
       " '092128.jpg.jpg',\n",
       " '092133.jpg.jpg',\n",
       " '092136.jpg.jpg',\n",
       " '092137.jpg.jpg',\n",
       " '092140.jpg.jpg',\n",
       " '092143.jpg.jpg',\n",
       " '092149.jpg.jpg',\n",
       " '092158.jpg.jpg',\n",
       " '092162.jpg.jpg',\n",
       " '092163.jpg.jpg',\n",
       " '092183.jpg.jpg',\n",
       " '092185.jpg.jpg',\n",
       " '092189.jpg.jpg',\n",
       " '092192.jpg.jpg',\n",
       " '092195.jpg.jpg',\n",
       " '092198.jpg.jpg',\n",
       " '092203.jpg.jpg',\n",
       " '092204.jpg.jpg',\n",
       " '092216.jpg.jpg',\n",
       " '092224.jpg.jpg',\n",
       " '092232.jpg.jpg',\n",
       " '092237.jpg.jpg',\n",
       " '092258.jpg.jpg',\n",
       " '092260.jpg.jpg',\n",
       " '092266.jpg.jpg',\n",
       " '092270.jpg.jpg',\n",
       " '092272.jpg.jpg',\n",
       " '092278.jpg.jpg',\n",
       " '092284.jpg.jpg',\n",
       " '092286.jpg.jpg',\n",
       " '092287.jpg.jpg',\n",
       " '092288.jpg.jpg',\n",
       " '092300.jpg.jpg',\n",
       " '092306.jpg.jpg',\n",
       " '092309.jpg.jpg',\n",
       " '092314.jpg.jpg',\n",
       " '092315.jpg.jpg',\n",
       " '092316.jpg.jpg',\n",
       " '092329.jpg.jpg',\n",
       " '092330.jpg.jpg',\n",
       " '092333.jpg.jpg',\n",
       " '092335.jpg.jpg',\n",
       " '092336.jpg.jpg',\n",
       " '092339.jpg.jpg',\n",
       " '092343.jpg.jpg',\n",
       " '092347.jpg.jpg',\n",
       " '092354.jpg.jpg',\n",
       " '092358.jpg.jpg',\n",
       " '092359.jpg.jpg',\n",
       " '092364.jpg.jpg',\n",
       " '092378.jpg.jpg',\n",
       " '092386.jpg.jpg',\n",
       " '092400.jpg.jpg',\n",
       " '092411.jpg.jpg',\n",
       " '092412.jpg.jpg',\n",
       " '092413.jpg.jpg',\n",
       " '092416.jpg.jpg',\n",
       " '092417.jpg.jpg',\n",
       " '092433.jpg.jpg',\n",
       " '092440.jpg.jpg',\n",
       " '092443.jpg.jpg',\n",
       " '092448.jpg.jpg',\n",
       " '092450.jpg.jpg',\n",
       " '092452.jpg.jpg',\n",
       " '092456.jpg.jpg',\n",
       " '092457.jpg.jpg',\n",
       " '092460.jpg.jpg',\n",
       " '092468.jpg.jpg',\n",
       " '092476.jpg.jpg',\n",
       " '092477.jpg.jpg',\n",
       " '092481.jpg.jpg',\n",
       " '092485.jpg.jpg',\n",
       " '092490.jpg.jpg',\n",
       " '092492.jpg.jpg',\n",
       " '092501.jpg.jpg',\n",
       " '092508.jpg.jpg',\n",
       " '092509.jpg.jpg',\n",
       " '092517.jpg.jpg',\n",
       " '092523.jpg.jpg',\n",
       " '092535.jpg.jpg',\n",
       " '092543.jpg.jpg',\n",
       " '092546.jpg.jpg',\n",
       " '092549.jpg.jpg',\n",
       " '092550.jpg.jpg',\n",
       " '092551.jpg.jpg',\n",
       " '092553.jpg.jpg',\n",
       " '092561.jpg.jpg',\n",
       " '092571.jpg.jpg',\n",
       " '092573.jpg.jpg',\n",
       " '092576.jpg.jpg',\n",
       " '092587.jpg.jpg',\n",
       " '092596.jpg.jpg',\n",
       " '092598.jpg.jpg',\n",
       " '092603.jpg.jpg',\n",
       " '092606.jpg.jpg',\n",
       " '092607.jpg.jpg',\n",
       " '092608.jpg.jpg',\n",
       " '092611.jpg.jpg',\n",
       " '092614.jpg.jpg',\n",
       " '092616.jpg.jpg',\n",
       " '092617.jpg.jpg',\n",
       " '092622.jpg.jpg',\n",
       " '092624.jpg.jpg',\n",
       " '092625.jpg.jpg',\n",
       " '092626.jpg.jpg',\n",
       " '092635.jpg.jpg',\n",
       " '092640.jpg.jpg',\n",
       " '092641.jpg.jpg',\n",
       " '092642.jpg.jpg',\n",
       " '092645.jpg.jpg',\n",
       " '092653.jpg.jpg',\n",
       " '092654.jpg.jpg',\n",
       " '092660.jpg.jpg',\n",
       " '092668.jpg.jpg',\n",
       " '092669.jpg.jpg',\n",
       " '092682.jpg.jpg',\n",
       " '092684.jpg.jpg',\n",
       " '092686.jpg.jpg',\n",
       " '092695.jpg.jpg',\n",
       " '092704.jpg.jpg',\n",
       " '092708.jpg.jpg',\n",
       " '092711.jpg.jpg',\n",
       " '092743.jpg.jpg',\n",
       " '092746.jpg.jpg',\n",
       " '092756.jpg.jpg',\n",
       " '092761.jpg.jpg',\n",
       " '092770.jpg.jpg',\n",
       " '092773.jpg.jpg',\n",
       " '092777.jpg.jpg',\n",
       " '092780.jpg.jpg',\n",
       " '092787.jpg.jpg',\n",
       " '092790.jpg.jpg',\n",
       " '092794.jpg.jpg',\n",
       " '092795.jpg.jpg',\n",
       " '092800.jpg.jpg',\n",
       " '092804.jpg.jpg',\n",
       " '092809.jpg.jpg',\n",
       " '092813.jpg.jpg',\n",
       " '092817.jpg.jpg',\n",
       " '092818.jpg.jpg',\n",
       " '092821.jpg.jpg',\n",
       " '092829.jpg.jpg',\n",
       " '092831.jpg.jpg',\n",
       " '092834.jpg.jpg',\n",
       " '092835.jpg.jpg',\n",
       " '092840.jpg.jpg',\n",
       " '092841.jpg.jpg',\n",
       " '092843.jpg.jpg',\n",
       " '092845.jpg.jpg',\n",
       " '092848.jpg.jpg',\n",
       " '092849.jpg.jpg',\n",
       " '092854.jpg.jpg',\n",
       " '092859.jpg.jpg',\n",
       " '092860.jpg.jpg',\n",
       " '092862.jpg.jpg',\n",
       " '092869.jpg.jpg',\n",
       " '092878.jpg.jpg',\n",
       " '092879.jpg.jpg',\n",
       " '092882.jpg.jpg',\n",
       " '092885.jpg.jpg',\n",
       " '092888.jpg.jpg',\n",
       " '092890.jpg.jpg',\n",
       " '092897.jpg.jpg',\n",
       " '092898.jpg.jpg',\n",
       " '092906.jpg.jpg',\n",
       " '092912.jpg.jpg',\n",
       " '092913.jpg.jpg',\n",
       " '092915.jpg.jpg',\n",
       " '092921.jpg.jpg',\n",
       " '092927.jpg.jpg',\n",
       " '092928.jpg.jpg',\n",
       " '092930.jpg.jpg',\n",
       " '092943.jpg.jpg',\n",
       " '092945.jpg.jpg',\n",
       " '092946.jpg.jpg',\n",
       " '092949.jpg.jpg',\n",
       " '092950.jpg.jpg',\n",
       " '092953.jpg.jpg',\n",
       " '092958.jpg.jpg',\n",
       " '092961.jpg.jpg',\n",
       " '092963.jpg.jpg',\n",
       " '092964.jpg.jpg',\n",
       " '092973.jpg.jpg',\n",
       " '092981.jpg.jpg',\n",
       " '092984.jpg.jpg',\n",
       " '092988.jpg.jpg',\n",
       " '092991.jpg.jpg',\n",
       " '092998.jpg.jpg',\n",
       " '093004.jpg.jpg',\n",
       " '093009.jpg.jpg',\n",
       " '093010.jpg.jpg',\n",
       " '093018.jpg.jpg',\n",
       " '093021.jpg.jpg',\n",
       " '093024.jpg.jpg',\n",
       " '093025.jpg.jpg',\n",
       " '093029.jpg.jpg',\n",
       " '093030.jpg.jpg',\n",
       " '093033.jpg.jpg',\n",
       " '093037.jpg.jpg',\n",
       " '093041.jpg.jpg',\n",
       " '093053.jpg.jpg',\n",
       " '093054.jpg.jpg',\n",
       " '093065.jpg.jpg',\n",
       " '093067.jpg.jpg',\n",
       " '093068.jpg.jpg',\n",
       " '093072.jpg.jpg',\n",
       " '093074.jpg.jpg',\n",
       " '093083.jpg.jpg',\n",
       " '093085.jpg.jpg',\n",
       " '093087.jpg.jpg',\n",
       " '093089.jpg.jpg',\n",
       " '093091.jpg.jpg',\n",
       " '093093.jpg.jpg',\n",
       " '093103.jpg.jpg',\n",
       " '093104.jpg.jpg',\n",
       " '093108.jpg.jpg',\n",
       " '093113.jpg.jpg',\n",
       " '093114.jpg.jpg',\n",
       " '093121.jpg.jpg',\n",
       " '093123.jpg.jpg',\n",
       " '093124.jpg.jpg',\n",
       " '093125.jpg.jpg',\n",
       " '093127.jpg.jpg',\n",
       " '093129.jpg.jpg',\n",
       " '093135.jpg.jpg',\n",
       " '093152.jpg.jpg',\n",
       " '093166.jpg.jpg',\n",
       " '093170.jpg.jpg',\n",
       " '093172.jpg.jpg',\n",
       " '093173.jpg.jpg',\n",
       " '093179.jpg.jpg',\n",
       " '093180.jpg.jpg',\n",
       " '093185.jpg.jpg',\n",
       " '093191.jpg.jpg',\n",
       " '093192.jpg.jpg',\n",
       " '093201.jpg.jpg',\n",
       " '093204.jpg.jpg',\n",
       " '093207.jpg.jpg',\n",
       " '093209.jpg.jpg',\n",
       " '093215.jpg.jpg',\n",
       " '093217.jpg.jpg',\n",
       " '093219.jpg.jpg',\n",
       " '093223.jpg.jpg',\n",
       " '093224.jpg.jpg',\n",
       " '093247.jpg.jpg',\n",
       " '093249.jpg.jpg',\n",
       " '093251.jpg.jpg',\n",
       " '093262.jpg.jpg',\n",
       " '093263.jpg.jpg',\n",
       " '093266.jpg.jpg',\n",
       " '093268.jpg.jpg',\n",
       " '093273.jpg.jpg',\n",
       " '093284.jpg.jpg',\n",
       " '093285.jpg.jpg',\n",
       " '093297.jpg.jpg',\n",
       " '093300.jpg.jpg',\n",
       " '093304.jpg.jpg',\n",
       " '093305.jpg.jpg',\n",
       " '093306.jpg.jpg',\n",
       " '093309.jpg.jpg',\n",
       " '093310.jpg.jpg',\n",
       " '093315.jpg.jpg',\n",
       " '093316.jpg.jpg',\n",
       " '093322.jpg.jpg',\n",
       " '093324.jpg.jpg',\n",
       " '093330.jpg.jpg',\n",
       " '093334.jpg.jpg',\n",
       " '093339.jpg.jpg',\n",
       " '093341.jpg.jpg',\n",
       " '093342.jpg.jpg',\n",
       " '093343.jpg.jpg',\n",
       " '093348.jpg.jpg',\n",
       " '093356.jpg.jpg',\n",
       " '093362.jpg.jpg',\n",
       " '093366.jpg.jpg',\n",
       " '093375.jpg.jpg',\n",
       " '093377.jpg.jpg',\n",
       " '093378.jpg.jpg',\n",
       " '093379.jpg.jpg',\n",
       " '093384.jpg.jpg',\n",
       " '093390.jpg.jpg',\n",
       " '093392.jpg.jpg',\n",
       " '093398.jpg.jpg',\n",
       " '093406.jpg.jpg',\n",
       " '093413.jpg.jpg',\n",
       " '093427.jpg.jpg',\n",
       " '093434.jpg.jpg',\n",
       " '093441.jpg.jpg',\n",
       " '093443.jpg.jpg',\n",
       " '093444.jpg.jpg',\n",
       " '093445.jpg.jpg',\n",
       " '093449.jpg.jpg',\n",
       " '093462.jpg.jpg',\n",
       " '093481.jpg.jpg',\n",
       " '093489.jpg.jpg',\n",
       " '093497.jpg.jpg',\n",
       " '093505.jpg.jpg',\n",
       " '093507.jpg.jpg',\n",
       " '093514.jpg.jpg',\n",
       " '093526.jpg.jpg',\n",
       " '093538.jpg.jpg',\n",
       " '093540.jpg.jpg',\n",
       " '093548.jpg.jpg',\n",
       " '093549.jpg.jpg',\n",
       " '093558.jpg.jpg',\n",
       " '093567.jpg.jpg',\n",
       " '093572.jpg.jpg',\n",
       " '093573.jpg.jpg',\n",
       " '093574.jpg.jpg',\n",
       " '093579.jpg.jpg',\n",
       " '093588.jpg.jpg',\n",
       " '093593.jpg.jpg',\n",
       " '093595.jpg.jpg',\n",
       " '093596.jpg.jpg',\n",
       " '093599.jpg.jpg',\n",
       " '093612.jpg.jpg',\n",
       " '093623.jpg.jpg',\n",
       " '093624.jpg.jpg',\n",
       " '093628.jpg.jpg',\n",
       " '093637.jpg.jpg',\n",
       " '093639.jpg.jpg',\n",
       " '093646.jpg.jpg',\n",
       " '093649.jpg.jpg',\n",
       " '093650.jpg.jpg',\n",
       " '093654.jpg.jpg',\n",
       " '093657.jpg.jpg',\n",
       " '093661.jpg.jpg',\n",
       " '093662.jpg.jpg',\n",
       " '093664.jpg.jpg',\n",
       " '093665.jpg.jpg',\n",
       " '093672.jpg.jpg',\n",
       " '093675.jpg.jpg',\n",
       " '093678.jpg.jpg',\n",
       " '093681.jpg.jpg',\n",
       " '093683.jpg.jpg',\n",
       " '093687.jpg.jpg',\n",
       " '093694.jpg.jpg',\n",
       " '093700.jpg.jpg',\n",
       " '093710.jpg.jpg',\n",
       " '093712.jpg.jpg',\n",
       " '093716.jpg.jpg',\n",
       " '093719.jpg.jpg',\n",
       " '093730.jpg.jpg',\n",
       " '093732.jpg.jpg',\n",
       " '093735.jpg.jpg',\n",
       " '093736.jpg.jpg',\n",
       " '093744.jpg.jpg',\n",
       " '093745.jpg.jpg',\n",
       " '093746.jpg.jpg',\n",
       " '093747.jpg.jpg',\n",
       " '093749.jpg.jpg',\n",
       " '093754.jpg.jpg',\n",
       " '093758.jpg.jpg',\n",
       " '093764.jpg.jpg',\n",
       " '093768.jpg.jpg',\n",
       " '093774.jpg.jpg',\n",
       " '093777.jpg.jpg',\n",
       " '093778.jpg.jpg',\n",
       " '093779.jpg.jpg',\n",
       " '093781.jpg.jpg',\n",
       " '093788.jpg.jpg',\n",
       " '093800.jpg.jpg',\n",
       " '093806.jpg.jpg',\n",
       " '093808.jpg.jpg',\n",
       " '093810.jpg.jpg',\n",
       " '093812.jpg.jpg',\n",
       " '093815.jpg.jpg',\n",
       " '093842.jpg.jpg',\n",
       " '093846.jpg.jpg',\n",
       " '093848.jpg.jpg',\n",
       " '093849.jpg.jpg',\n",
       " '093851.jpg.jpg',\n",
       " '093857.jpg.jpg',\n",
       " '093860.jpg.jpg',\n",
       " '093866.jpg.jpg',\n",
       " '093867.jpg.jpg',\n",
       " '093868.jpg.jpg',\n",
       " '093878.jpg.jpg',\n",
       " '093879.jpg.jpg',\n",
       " '093886.jpg.jpg',\n",
       " '093890.jpg.jpg',\n",
       " '093899.jpg.jpg',\n",
       " '093910.jpg.jpg',\n",
       " '093914.jpg.jpg',\n",
       " '093916.jpg.jpg',\n",
       " '093920.jpg.jpg',\n",
       " '093926.jpg.jpg',\n",
       " '093929.jpg.jpg',\n",
       " '093930.jpg.jpg',\n",
       " '093945.jpg.jpg',\n",
       " '093947.jpg.jpg',\n",
       " '093951.jpg.jpg',\n",
       " '093956.jpg.jpg',\n",
       " '093973.jpg.jpg',\n",
       " '093977.jpg.jpg',\n",
       " '093982.jpg.jpg',\n",
       " '093983.jpg.jpg',\n",
       " '094007.jpg.jpg',\n",
       " '094019.jpg.jpg',\n",
       " '094021.jpg.jpg',\n",
       " '094023.jpg.jpg',\n",
       " '094026.jpg.jpg',\n",
       " '094031.jpg.jpg',\n",
       " '094034.jpg.jpg',\n",
       " '094038.jpg.jpg',\n",
       " '094041.jpg.jpg',\n",
       " '094046.jpg.jpg',\n",
       " '094054.jpg.jpg',\n",
       " '094057.jpg.jpg',\n",
       " '094063.jpg.jpg',\n",
       " '094066.jpg.jpg',\n",
       " '094072.jpg.jpg',\n",
       " '094076.jpg.jpg',\n",
       " '094080.jpg.jpg',\n",
       " '094085.jpg.jpg',\n",
       " '094086.jpg.jpg',\n",
       " '094087.jpg.jpg',\n",
       " '094088.jpg.jpg',\n",
       " '094103.jpg.jpg',\n",
       " '094109.jpg.jpg',\n",
       " '094113.jpg.jpg',\n",
       " '094118.jpg.jpg',\n",
       " '094120.jpg.jpg',\n",
       " '094132.jpg.jpg',\n",
       " '094136.jpg.jpg',\n",
       " '094139.jpg.jpg',\n",
       " '094152.jpg.jpg',\n",
       " '094158.jpg.jpg',\n",
       " '094160.jpg.jpg',\n",
       " '094167.jpg.jpg',\n",
       " '094169.jpg.jpg',\n",
       " '094173.jpg.jpg',\n",
       " '094177.jpg.jpg',\n",
       " '094180.jpg.jpg',\n",
       " '094182.jpg.jpg',\n",
       " '094189.jpg.jpg',\n",
       " '094193.jpg.jpg',\n",
       " '094202.jpg.jpg',\n",
       " '094205.jpg.jpg',\n",
       " '094213.jpg.jpg',\n",
       " '094217.jpg.jpg',\n",
       " '094220.jpg.jpg',\n",
       " '094225.jpg.jpg',\n",
       " '094227.jpg.jpg',\n",
       " '094231.jpg.jpg',\n",
       " '094232.jpg.jpg',\n",
       " '094234.jpg.jpg',\n",
       " '094236.jpg.jpg',\n",
       " '094246.jpg.jpg',\n",
       " '094249.jpg.jpg',\n",
       " '094260.jpg.jpg',\n",
       " '094265.jpg.jpg',\n",
       " '094272.jpg.jpg',\n",
       " '094277.jpg.jpg',\n",
       " '094289.jpg.jpg',\n",
       " '094291.jpg.jpg',\n",
       " '094299.jpg.jpg',\n",
       " '094302.jpg.jpg',\n",
       " '094304.jpg.jpg',\n",
       " '094306.jpg.jpg',\n",
       " '094307.jpg.jpg',\n",
       " '094308.jpg.jpg',\n",
       " '094310.jpg.jpg',\n",
       " '094315.jpg.jpg',\n",
       " '094320.jpg.jpg',\n",
       " '094326.jpg.jpg',\n",
       " '094330.jpg.jpg',\n",
       " '094333.jpg.jpg',\n",
       " '094335.jpg.jpg',\n",
       " '094339.jpg.jpg',\n",
       " '094350.jpg.jpg',\n",
       " '094351.jpg.jpg',\n",
       " '094354.jpg.jpg',\n",
       " '094359.jpg.jpg',\n",
       " '094361.jpg.jpg',\n",
       " '094366.jpg.jpg',\n",
       " '094368.jpg.jpg',\n",
       " '094372.jpg.jpg',\n",
       " '094381.jpg.jpg',\n",
       " '094383.jpg.jpg',\n",
       " '094392.jpg.jpg',\n",
       " '094398.jpg.jpg',\n",
       " '094400.jpg.jpg',\n",
       " '094403.jpg.jpg',\n",
       " '094405.jpg.jpg',\n",
       " '094408.jpg.jpg',\n",
       " '094410.jpg.jpg',\n",
       " '094425.jpg.jpg',\n",
       " '094430.jpg.jpg',\n",
       " '094434.jpg.jpg',\n",
       " '094435.jpg.jpg',\n",
       " '094442.jpg.jpg',\n",
       " '094443.jpg.jpg',\n",
       " '094449.jpg.jpg',\n",
       " '094451.jpg.jpg',\n",
       " '094456.jpg.jpg',\n",
       " '094464.jpg.jpg',\n",
       " '094468.jpg.jpg',\n",
       " '094471.jpg.jpg',\n",
       " '094479.jpg.jpg',\n",
       " '094480.jpg.jpg',\n",
       " '094486.jpg.jpg',\n",
       " '094490.jpg.jpg',\n",
       " '094494.jpg.jpg',\n",
       " '094496.jpg.jpg',\n",
       " '094497.jpg.jpg',\n",
       " '094503.jpg.jpg',\n",
       " '094507.jpg.jpg',\n",
       " '094513.jpg.jpg',\n",
       " '094517.jpg.jpg',\n",
       " '094518.jpg.jpg',\n",
       " '094520.jpg.jpg',\n",
       " '094531.jpg.jpg',\n",
       " '094534.jpg.jpg',\n",
       " '094539.jpg.jpg',\n",
       " '094551.jpg.jpg',\n",
       " '094559.jpg.jpg',\n",
       " '094570.jpg.jpg',\n",
       " '094571.jpg.jpg',\n",
       " '094588.jpg.jpg',\n",
       " '094593.jpg.jpg',\n",
       " '094594.jpg.jpg',\n",
       " '094597.jpg.jpg',\n",
       " '094606.jpg.jpg',\n",
       " '094608.jpg.jpg',\n",
       " '094611.jpg.jpg',\n",
       " '094616.jpg.jpg',\n",
       " '094620.jpg.jpg',\n",
       " '094622.jpg.jpg',\n",
       " '094625.jpg.jpg',\n",
       " '094626.jpg.jpg',\n",
       " '094628.jpg.jpg',\n",
       " '094629.jpg.jpg',\n",
       " '094632.jpg.jpg',\n",
       " '094633.jpg.jpg',\n",
       " '094641.jpg.jpg',\n",
       " '094651.jpg.jpg',\n",
       " '094659.jpg.jpg',\n",
       " '094662.jpg.jpg',\n",
       " '094664.jpg.jpg',\n",
       " '094665.jpg.jpg',\n",
       " '094668.jpg.jpg',\n",
       " '094672.jpg.jpg',\n",
       " '094676.jpg.jpg',\n",
       " '094680.jpg.jpg',\n",
       " '094682.jpg.jpg',\n",
       " '094686.jpg.jpg',\n",
       " '094688.jpg.jpg',\n",
       " '094697.jpg.jpg',\n",
       " '094713.jpg.jpg',\n",
       " '094717.jpg.jpg',\n",
       " '094719.jpg.jpg',\n",
       " '094728.jpg.jpg',\n",
       " '094732.jpg.jpg',\n",
       " '094734.jpg.jpg',\n",
       " '094751.jpg.jpg',\n",
       " '094758.jpg.jpg',\n",
       " '094759.jpg.jpg',\n",
       " '094767.jpg.jpg',\n",
       " '094776.jpg.jpg',\n",
       " '094789.jpg.jpg',\n",
       " '094792.jpg.jpg',\n",
       " '094793.jpg.jpg',\n",
       " '094794.jpg.jpg',\n",
       " '094795.jpg.jpg',\n",
       " '094798.jpg.jpg',\n",
       " '094805.jpg.jpg',\n",
       " '094807.jpg.jpg',\n",
       " '094808.jpg.jpg',\n",
       " '094813.jpg.jpg',\n",
       " '094821.jpg.jpg',\n",
       " '094828.jpg.jpg',\n",
       " '094832.jpg.jpg',\n",
       " '094833.jpg.jpg',\n",
       " '094838.jpg.jpg',\n",
       " '094845.jpg.jpg',\n",
       " '094847.jpg.jpg',\n",
       " '094849.jpg.jpg',\n",
       " '094858.jpg.jpg',\n",
       " '094859.jpg.jpg',\n",
       " '094872.jpg.jpg',\n",
       " '094874.jpg.jpg',\n",
       " '094876.jpg.jpg',\n",
       " '094878.jpg.jpg',\n",
       " '094884.jpg.jpg',\n",
       " '094892.jpg.jpg',\n",
       " '094901.jpg.jpg',\n",
       " '094905.jpg.jpg',\n",
       " '094911.jpg.jpg',\n",
       " '094912.jpg.jpg',\n",
       " '094917.jpg.jpg',\n",
       " '094920.jpg.jpg',\n",
       " '094921.jpg.jpg',\n",
       " '094925.jpg.jpg',\n",
       " '094928.jpg.jpg',\n",
       " '094933.jpg.jpg',\n",
       " '094944.jpg.jpg',\n",
       " '094945.jpg.jpg',\n",
       " '094953.jpg.jpg',\n",
       " '094957.jpg.jpg',\n",
       " '094958.jpg.jpg',\n",
       " '094961.jpg.jpg',\n",
       " '094967.jpg.jpg',\n",
       " '094983.jpg.jpg',\n",
       " '094985.jpg.jpg',\n",
       " '094987.jpg.jpg',\n",
       " '094996.jpg.jpg',\n",
       " '095002.jpg.jpg',\n",
       " '095004.jpg.jpg',\n",
       " '095009.jpg.jpg',\n",
       " '095026.jpg.jpg',\n",
       " '095027.jpg.jpg',\n",
       " '095030.jpg.jpg',\n",
       " '095036.jpg.jpg',\n",
       " '095043.jpg.jpg',\n",
       " '095044.jpg.jpg',\n",
       " '095045.jpg.jpg',\n",
       " '095046.jpg.jpg',\n",
       " '095052.jpg.jpg',\n",
       " '095057.jpg.jpg',\n",
       " '095059.jpg.jpg',\n",
       " '095071.jpg.jpg',\n",
       " '095074.jpg.jpg',\n",
       " '095079.jpg.jpg',\n",
       " '095082.jpg.jpg',\n",
       " '095083.jpg.jpg',\n",
       " '095084.jpg.jpg',\n",
       " '095094.jpg.jpg',\n",
       " '095097.jpg.jpg',\n",
       " '095098.jpg.jpg',\n",
       " '095100.jpg.jpg',\n",
       " '095101.jpg.jpg',\n",
       " '095102.jpg.jpg',\n",
       " '095103.jpg.jpg',\n",
       " '095104.jpg.jpg',\n",
       " ...]"
      ]
     },
     "execution_count": 7,
     "metadata": {},
     "output_type": "execute_result"
    }
   ],
   "source": [
    "os.listdir(path_male)"
   ]
  },
  {
   "cell_type": "code",
   "execution_count": 8,
   "id": "a14badd4",
   "metadata": {},
   "outputs": [],
   "source": [
    "img_female=os.listdir(path_female)"
   ]
  },
  {
   "cell_type": "code",
   "execution_count": 9,
   "id": "c145461a",
   "metadata": {},
   "outputs": [],
   "source": [
    "img_male=os.listdir(path_male)"
   ]
  },
  {
   "cell_type": "code",
   "execution_count": 25,
   "id": "baf36a7c",
   "metadata": {},
   "outputs": [],
   "source": [
    "img=plt.imread(path_female+img_female[0])"
   ]
  },
  {
   "cell_type": "code",
   "execution_count": 26,
   "id": "226a759c",
   "metadata": {},
   "outputs": [
    {
     "data": {
      "text/plain": [
       "array([[[39, 39, 37],\n",
       "        [44, 44, 42],\n",
       "        [45, 45, 43],\n",
       "        ...,\n",
       "        [53, 53, 55],\n",
       "        [56, 56, 58],\n",
       "        [43, 43, 45]],\n",
       "\n",
       "       [[34, 34, 32],\n",
       "        [34, 34, 32],\n",
       "        [30, 30, 28],\n",
       "        ...,\n",
       "        [56, 56, 58],\n",
       "        [51, 51, 53],\n",
       "        [65, 65, 67]],\n",
       "\n",
       "       [[29, 29, 27],\n",
       "        [34, 34, 32],\n",
       "        [30, 30, 28],\n",
       "        ...,\n",
       "        [62, 62, 64],\n",
       "        [57, 57, 59],\n",
       "        [65, 65, 67]],\n",
       "\n",
       "       ...,\n",
       "\n",
       "       [[17, 27, 18],\n",
       "        [10, 20, 11],\n",
       "        [ 9, 16,  9],\n",
       "        ...,\n",
       "        [15, 15, 15],\n",
       "        [21, 23, 22],\n",
       "        [24, 26, 25]],\n",
       "\n",
       "       [[16, 24, 13],\n",
       "        [ 9, 17,  6],\n",
       "        [ 9, 14,  7],\n",
       "        ...,\n",
       "        [19, 19, 21],\n",
       "        [16, 16, 18],\n",
       "        [12, 12, 14]],\n",
       "\n",
       "       [[16, 24, 13],\n",
       "        [ 9, 17,  6],\n",
       "        [ 9, 14,  7],\n",
       "        ...,\n",
       "        [20, 20, 22],\n",
       "        [18, 18, 20],\n",
       "        [15, 15, 17]]], dtype=uint8)"
      ]
     },
     "execution_count": 26,
     "metadata": {},
     "output_type": "execute_result"
    }
   ],
   "source": [
    "img\n",
    "\n"
   ]
  },
  {
   "cell_type": "code",
   "execution_count": 27,
   "id": "bf196ded",
   "metadata": {},
   "outputs": [
    {
     "data": {
      "text/plain": [
       "<matplotlib.image.AxesImage at 0x1c5094b3710>"
      ]
     },
     "execution_count": 27,
     "metadata": {},
     "output_type": "execute_result"
    },
    {
     "data": {
      "image/png": "[encoded data removed]",
      "text/plain": [
       "<Figure size 640x480 with 1 Axes>"
      ]
     },
     "metadata": {},
     "output_type": "display_data"
    }
   ],
   "source": [
    "plt.imshow(img)"
   ]
  },
  {
   "cell_type": "code",
   "execution_count": 29,
   "id": "182b9f6e",
   "metadata": {},
   "outputs": [],
   "source": [
    "img1=plt.imread(path_male+img_male[0])"
   ]
  },
  {
   "cell_type": "code",
   "execution_count": 30,
   "id": "b125094d",
   "metadata": {},
   "outputs": [
    {
     "data": {
      "text/plain": [
       "<matplotlib.image.AxesImage at 0x1c5092b0b50>"
      ]
     },
     "execution_count": 30,
     "metadata": {},
     "output_type": "execute_result"
    },
    {
     "data": {
      "image/png": "[encoded data removed]",
      "text/plain": [
       "<Figure size 640x480 with 1 Axes>"
      ]
     },
     "metadata": {},
     "output_type": "display_data"
    }
   ],
   "source": [
    "plt.imshow(img1)"
   ]
  },
  {
   "cell_type": "code",
   "execution_count": 31,
   "id": "cb426e62",
   "metadata": {},
   "outputs": [],
   "source": [
    "img_dataset=[]\n",
    "img_label=[]"
   ]
  },
  {
   "cell_type": "code",
   "execution_count": 32,
   "id": "b198996d",
   "metadata": {},
   "outputs": [],
   "source": [
    "for i in img_female:\n",
    "    image=cv2.imread(path_female+i)\n",
    "    image=cv2.resize(image,(100,100))\n",
    "    img_dataset.append(np.array(image))\n",
    "    img_label.append(0)"
   ]
  },
  {
   "cell_type": "code",
   "execution_count": null,
   "id": "d1704ece",
   "metadata": {},
   "outputs": [],
   "source": []
  },
  {
   "cell_type": "code",
   "execution_count": 33,
   "id": "a5c4c6c7",
   "metadata": {},
   "outputs": [
    {
     "data": {
      "text/plain": [
       "3000"
      ]
     },
     "execution_count": 33,
     "metadata": {},
     "output_type": "execute_result"
    }
   ],
   "source": [
    "len(img_dataset)"
   ]
  },
  {
   "cell_type": "code",
   "execution_count": 34,
   "id": "e51ad24a",
   "metadata": {},
   "outputs": [
    {
     "data": {
      "text/plain": [
       "3000"
      ]
     },
     "execution_count": 34,
     "metadata": {},
     "output_type": "execute_result"
    }
   ],
   "source": [
    "len(img_label)"
   ]
  },
  {
   "cell_type": "code",
   "execution_count": 38,
   "id": "7f079427",
   "metadata": {},
   "outputs": [],
   "source": [
    "for j in img_male:\n",
    "    image_1=cv2.imread(path_male+j)\n",
    "    image_1=cv2.resize(image_1,(100,100))\n",
    "    img_dataset.append(np.array(image_1))\n",
    "    img_label.append(1)"
   ]
  },
  {
   "cell_type": "code",
   "execution_count": 39,
   "id": "39f44008",
   "metadata": {},
   "outputs": [
    {
     "data": {
      "text/plain": [
       "6000"
      ]
     },
     "execution_count": 39,
     "metadata": {},
     "output_type": "execute_result"
    }
   ],
   "source": [
    "len(img_dataset)"
   ]
  },
  {
   "cell_type": "code",
   "execution_count": 40,
   "id": "aebeb548",
   "metadata": {},
   "outputs": [
    {
     "data": {
      "text/plain": [
       "6000"
      ]
     },
     "execution_count": 40,
     "metadata": {},
     "output_type": "execute_result"
    }
   ],
   "source": [
    "len(img_label)"
   ]
  },
  {
   "cell_type": "code",
   "execution_count": 41,
   "id": "19d7d742",
   "metadata": {},
   "outputs": [],
   "source": [
    "img_dataset_array=np.array(img_dataset)"
   ]
  },
  {
   "cell_type": "code",
   "execution_count": 43,
   "id": "cbe5e6fe",
   "metadata": {},
   "outputs": [],
   "source": [
    "img_label_array=np.array(img_label)"
   ]
  },
  {
   "cell_type": "markdown",
   "id": "3d86e376",
   "metadata": {},
   "source": [
    "## scale"
   ]
  },
  {
   "cell_type": "code",
   "execution_count": 44,
   "id": "d61dfdbb",
   "metadata": {},
   "outputs": [
    {
     "data": {
      "text/plain": [
       "255"
      ]
     },
     "execution_count": 44,
     "metadata": {},
     "output_type": "execute_result"
    }
   ],
   "source": [
    "img_dataset_array.max()"
   ]
  },
  {
   "cell_type": "code",
   "execution_count": 45,
   "id": "9727839e",
   "metadata": {},
   "outputs": [
    {
     "data": {
      "text/plain": [
       "0"
      ]
     },
     "execution_count": 45,
     "metadata": {},
     "output_type": "execute_result"
    }
   ],
   "source": [
    "img_dataset_array.min()"
   ]
  },
  {
   "cell_type": "code",
   "execution_count": 46,
   "id": "ba533980",
   "metadata": {},
   "outputs": [],
   "source": [
    "img_dataset_scale=img_dataset_array/255.0"
   ]
  },
  {
   "cell_type": "code",
   "execution_count": 47,
   "id": "8c428840",
   "metadata": {},
   "outputs": [],
   "source": [
    "X=img_dataset_scale"
   ]
  },
  {
   "cell_type": "code",
   "execution_count": 48,
   "id": "f2be2497",
   "metadata": {},
   "outputs": [],
   "source": [
    "y=img_label_array"
   ]
  },
  {
   "cell_type": "code",
   "execution_count": 49,
   "id": "0862027c",
   "metadata": {},
   "outputs": [],
   "source": [
    "from sklearn.model_selection import train_test_split"
   ]
  },
  {
   "cell_type": "code",
   "execution_count": 50,
   "id": "9a622f06",
   "metadata": {},
   "outputs": [],
   "source": [
    "X_train,X_test,y_train,y_test=train_test_split(X,y,test_size=0.20)\n"
   ]
  },
  {
   "cell_type": "code",
   "execution_count": 51,
   "id": "20885d82",
   "metadata": {},
   "outputs": [
    {
     "data": {
      "text/plain": [
       "(4800, 100, 100, 3)"
      ]
     },
     "execution_count": 51,
     "metadata": {},
     "output_type": "execute_result"
    }
   ],
   "source": [
    "X_train.shape"
   ]
  },
  {
   "cell_type": "code",
   "execution_count": 52,
   "id": "1c70bee1",
   "metadata": {},
   "outputs": [
    {
     "data": {
      "text/plain": [
       "(4800,)"
      ]
     },
     "execution_count": 52,
     "metadata": {},
     "output_type": "execute_result"
    }
   ],
   "source": [
    "y_train.shape"
   ]
  },
  {
   "cell_type": "code",
   "execution_count": 53,
   "id": "2945f322",
   "metadata": {},
   "outputs": [],
   "source": [
    "from tensorflow.keras.layers import Input,Conv2D,MaxPooling2D,Dropout,Flatten,Dense"
   ]
  },
  {
   "cell_type": "code",
   "execution_count": 54,
   "id": "02e0b883",
   "metadata": {},
   "outputs": [],
   "source": [
    "from tensorflow.keras.models import Sequential"
   ]
  },
  {
   "cell_type": "code",
   "execution_count": 55,
   "id": "374284cb",
   "metadata": {},
   "outputs": [],
   "source": [
    "smodel=Sequential()"
   ]
  },
  {
   "cell_type": "code",
   "execution_count": 56,
   "id": "30d65dc5",
   "metadata": {},
   "outputs": [],
   "source": [
    "smodel.add(Input(shape=(100,100,3)))"
   ]
  },
  {
   "cell_type": "markdown",
   "id": "b127c7ae",
   "metadata": {},
   "source": [
    "## first convutional leyer"
   ]
  },
  {
   "cell_type": "code",
   "execution_count": 57,
   "id": "75b47a61",
   "metadata": {},
   "outputs": [],
   "source": [
    "smodel.add(Conv2D(filters=32,kernel_size=(3,3),activation=\"relu\",strides=(1,1),padding=\"valid\"))\n",
    "smodel.add(MaxPooling2D(pool_size=(2,2),strides=2,padding=\"valid\"))\n",
    "smodel.add(Dropout(0.20))"
   ]
  },
  {
   "cell_type": "markdown",
   "id": "dfdd66a5",
   "metadata": {},
   "source": [
    "## second convutional layer"
   ]
  },
  {
   "cell_type": "code",
   "execution_count": 58,
   "id": "5611131a",
   "metadata": {},
   "outputs": [],
   "source": [
    "smodel.add(Conv2D(filters=32,kernel_size=(3,3),activation=\"relu\",strides=(1,1),padding=\"valid\"))\n",
    "smodel.add(MaxPooling2D(pool_size=(2,2),strides=2,padding=\"valid\"))\n",
    "smodel.add(Dropout(0.20))"
   ]
  },
  {
   "cell_type": "markdown",
   "id": "93f6d355",
   "metadata": {},
   "source": [
    "## third convutional layer"
   ]
  },
  {
   "cell_type": "code",
   "execution_count": 59,
   "id": "1403a21c",
   "metadata": {},
   "outputs": [],
   "source": [
    "smodel.add(Conv2D(filters=32,kernel_size=(3,3),activation=\"relu\",strides=(1,1),padding=\"valid\"))\n",
    "smodel.add(MaxPooling2D(pool_size=(2,2),strides=2,padding=\"valid\"))\n",
    "smodel.add(Dropout(0.20))"
   ]
  },
  {
   "cell_type": "code",
   "execution_count": 60,
   "id": "78ed7cda",
   "metadata": {},
   "outputs": [],
   "source": [
    "smodel.add(Flatten())"
   ]
  },
  {
   "cell_type": "markdown",
   "id": "86a27ec9",
   "metadata": {},
   "source": [
    "## fully connected layer"
   ]
  },
  {
   "cell_type": "code",
   "execution_count": 61,
   "id": "0daaa7ea",
   "metadata": {},
   "outputs": [],
   "source": [
    "smodel.add(Dense(units=125,activation=\"relu\"))\n",
    "smodel.add(Dense(units=64,activation=\"relu\"))\n",
    "smodel.add(Dense(units=128,activation=\"relu\"))\n",
    "smodel.add(Dense(units=2,activation=\"softmax\"))"
   ]
  },
  {
   "cell_type": "code",
   "execution_count": 62,
   "id": "d83c7032",
   "metadata": {},
   "outputs": [
    {
     "name": "stdout",
     "output_type": "stream",
     "text": [
      "Model: \"sequential\"\n",
      "_________________________________________________________________\n",
      " Layer (type)                Output Shape              Param #   \n",
      "=================================================================\n",
      " conv2d (Conv2D)             (None, 98, 98, 32)        896       \n",
      "                                                                 \n",
      " max_pooling2d (MaxPooling2  (None, 49, 49, 32)        0         \n",
      " D)                                                              \n",
      "                                                                 \n",
      " dropout (Dropout)           (None, 49, 49, 32)        0         \n",
      "                                                                 \n",
      " conv2d_1 (Conv2D)           (None, 47, 47, 32)        9248      \n",
      "                                                                 \n",
      " max_pooling2d_1 (MaxPoolin  (None, 23, 23, 32)        0         \n",
      " g2D)                                                            \n",
      "                                                                 \n",
      " dropout_1 (Dropout)         (None, 23, 23, 32)        0         \n",
      "                                                                 \n",
      " conv2d_2 (Conv2D)           (None, 21, 21, 32)        9248      \n",
      "                                                                 \n",
      " max_pooling2d_2 (MaxPoolin  (None, 10, 10, 32)        0         \n",
      " g2D)                                                            \n",
      "                                                                 \n",
      " dropout_2 (Dropout)         (None, 10, 10, 32)        0         \n",
      "                                                                 \n",
      " flatten (Flatten)           (None, 3200)              0         \n",
      "                                                                 \n",
      " dense (Dense)               (None, 125)               400125    \n",
      "                                                                 \n",
      " dense_1 (Dense)             (None, 64)                8064      \n",
      "                                                                 \n",
      " dense_2 (Dense)             (None, 128)               8320      \n",
      "                                                                 \n",
      " dense_3 (Dense)             (None, 2)                 258       \n",
      "                                                                 \n",
      "=================================================================\n",
      "Total params: 436159 (1.66 MB)\n",
      "Trainable params: 436159 (1.66 MB)\n",
      "Non-trainable params: 0 (0.00 Byte)\n",
      "_________________________________________________________________\n"
     ]
    }
   ],
   "source": [
    "smodel.summary()"
   ]
  },
  {
   "cell_type": "code",
   "execution_count": 66,
   "id": "942e3b9f",
   "metadata": {},
   "outputs": [],
   "source": [
    "smodel.compile(optimizer=\"adam\",loss=\"sparse_categorical_crossentropy\",metrics=[\"accuracy\"])"
   ]
  },
  {
   "cell_type": "code",
   "execution_count": 67,
   "id": "da2a9f24",
   "metadata": {},
   "outputs": [
    {
     "name": "stdout",
     "output_type": "stream",
     "text": [
      "Epoch 1/15\n",
      "150/150 [==============================] - 46s 279ms/step - loss: 0.6291 - accuracy: 0.6317\n",
      "Epoch 2/15\n",
      "150/150 [==============================] - 48s 318ms/step - loss: 0.4118 - accuracy: 0.8181\n",
      "Epoch 3/15\n",
      "150/150 [==============================] - 42s 277ms/step - loss: 0.3200 - accuracy: 0.8698\n",
      "Epoch 4/15\n",
      "150/150 [==============================] - 42s 277ms/step - loss: 0.2549 - accuracy: 0.9044\n",
      "Epoch 5/15\n",
      "150/150 [==============================] - 41s 276ms/step - loss: 0.2488 - accuracy: 0.9023\n",
      "Epoch 6/15\n",
      "150/150 [==============================] - 42s 277ms/step - loss: 0.2090 - accuracy: 0.9177\n",
      "Epoch 7/15\n",
      "150/150 [==============================] - 42s 279ms/step - loss: 0.2048 - accuracy: 0.9225\n",
      "Epoch 8/15\n",
      "150/150 [==============================] - 46s 305ms/step - loss: 0.1863 - accuracy: 0.9317\n",
      "Epoch 9/15\n",
      "150/150 [==============================] - 43s 286ms/step - loss: 0.1690 - accuracy: 0.9315\n",
      "Epoch 10/15\n",
      "150/150 [==============================] - 52s 344ms/step - loss: 0.1616 - accuracy: 0.9360\n",
      "Epoch 11/15\n",
      "150/150 [==============================] - 62s 411ms/step - loss: 0.1570 - accuracy: 0.9373\n",
      "Epoch 12/15\n",
      "150/150 [==============================] - 62s 412ms/step - loss: 0.1469 - accuracy: 0.9433\n",
      "Epoch 13/15\n",
      "150/150 [==============================] - 56s 371ms/step - loss: 0.1293 - accuracy: 0.9521\n",
      "Epoch 14/15\n",
      "150/150 [==============================] - 57s 382ms/step - loss: 0.1334 - accuracy: 0.9483\n",
      "Epoch 15/15\n",
      "150/150 [==============================] - 54s 363ms/step - loss: 0.1229 - accuracy: 0.9498\n"
     ]
    },
    {
     "data": {
      "text/plain": [
       "<keras.src.callbacks.History at 0x1c53867cc50>"
      ]
     },
     "execution_count": 67,
     "metadata": {},
     "output_type": "execute_result"
    }
   ],
   "source": [
    "smodel.fit(X_train,y_train,epochs=15)"
   ]
  },
  {
   "cell_type": "code",
   "execution_count": 68,
   "id": "067d3f90",
   "metadata": {},
   "outputs": [
    {
     "name": "stdout",
     "output_type": "stream",
     "text": [
      "38/38 [==============================] - 3s 69ms/step - loss: 0.1818 - accuracy: 0.9283\n"
     ]
    },
    {
     "data": {
      "text/plain": [
       "[0.18180617690086365, 0.9283333420753479]"
      ]
     },
     "execution_count": 68,
     "metadata": {},
     "output_type": "execute_result"
    }
   ],
   "source": [
    "smodel.evaluate(X_test,y_test)"
   ]
  },
  {
   "cell_type": "code",
   "execution_count": 74,
   "id": "60dd74da",
   "metadata": {},
   "outputs": [],
   "source": [
    "img_p=X_train[3344].reshape((1,)+X_train[3344].shape)"
   ]
  },
  {
   "cell_type": "code",
   "execution_count": 75,
   "id": "6a28ae2b",
   "metadata": {},
   "outputs": [
    {
     "name": "stdout",
     "output_type": "stream",
     "text": [
      "1/1 [==============================] - 0s 387ms/step\n"
     ]
    },
    {
     "data": {
      "text/plain": [
       "array([[0.00671367, 0.9932863 ]], dtype=float32)"
      ]
     },
     "execution_count": 75,
     "metadata": {},
     "output_type": "execute_result"
    }
   ],
   "source": [
    "smodel.predict(img_p)"
   ]
  },
  {
   "cell_type": "code",
   "execution_count": 76,
   "id": "52788ded",
   "metadata": {},
   "outputs": [
    {
     "name": "stdout",
     "output_type": "stream",
     "text": [
      "1/1 [==============================] - 0s 56ms/step\n"
     ]
    },
    {
     "data": {
      "text/plain": [
       "1"
      ]
     },
     "execution_count": 76,
     "metadata": {},
     "output_type": "execute_result"
    }
   ],
   "source": [
    "np.argmax(smodel.predict(img_p))"
   ]
  },
  {
   "cell_type": "code",
   "execution_count": 80,
   "id": "bbce07da",
   "metadata": {},
   "outputs": [
    {
     "data": {
      "text/plain": [
       "array([[[[0.4       , 0.49411765, 0.56862745],\n",
       "         [0.24313725, 0.34117647, 0.42352941],\n",
       "         [0.22745098, 0.3254902 , 0.41568627],\n",
       "         ...,\n",
       "         [0.20392157, 0.28235294, 0.38823529],\n",
       "         [0.10588235, 0.18039216, 0.28627451],\n",
       "         [0.10588235, 0.18039216, 0.28627451]],\n",
       "\n",
       "        [[0.45490196, 0.54901961, 0.63137255],\n",
       "         [0.27843137, 0.37254902, 0.45882353],\n",
       "         [0.13333333, 0.23137255, 0.3254902 ],\n",
       "         ...,\n",
       "         [0.24313725, 0.3254902 , 0.43529412],\n",
       "         [0.21176471, 0.29411765, 0.4       ],\n",
       "         [0.2745098 , 0.34901961, 0.45490196]],\n",
       "\n",
       "        [[0.43137255, 0.52941176, 0.61176471],\n",
       "         [0.26666667, 0.37254902, 0.45882353],\n",
       "         [0.18431373, 0.29411765, 0.38823529],\n",
       "         ...,\n",
       "         [0.25882353, 0.34509804, 0.4627451 ],\n",
       "         [0.27843137, 0.36470588, 0.4745098 ],\n",
       "         [0.36862745, 0.45490196, 0.56470588]],\n",
       "\n",
       "        ...,\n",
       "\n",
       "        [[0.98431373, 1.        , 0.97647059],\n",
       "         [0.98823529, 0.99607843, 0.98039216],\n",
       "         [0.98823529, 0.98823529, 0.97647059],\n",
       "         ...,\n",
       "         [0.96470588, 0.97647059, 0.98039216],\n",
       "         [0.96470588, 0.98039216, 0.98431373],\n",
       "         [0.97647059, 0.99215686, 0.99607843]],\n",
       "\n",
       "        [[0.98039216, 0.99607843, 0.97647059],\n",
       "         [0.97647059, 0.99215686, 0.97254902],\n",
       "         [0.97647059, 0.98431373, 0.97254902],\n",
       "         ...,\n",
       "         [0.95686275, 0.96862745, 0.97647059],\n",
       "         [0.96078431, 0.97647059, 0.98039216],\n",
       "         [0.97647059, 0.99215686, 0.99607843]],\n",
       "\n",
       "        [[0.96078431, 0.98431373, 0.96470588],\n",
       "         [0.96078431, 0.98039216, 0.96078431],\n",
       "         [0.96862745, 0.97647059, 0.96470588],\n",
       "         ...,\n",
       "         [0.96078431, 0.96862745, 0.97647059],\n",
       "         [0.96862745, 0.97647059, 0.98039216],\n",
       "         [0.98431373, 0.99215686, 0.99607843]]]])"
      ]
     },
     "execution_count": 80,
     "metadata": {},
     "output_type": "execute_result"
    }
   ],
   "source": [
    "img_p"
   ]
  },
  {
   "cell_type": "code",
   "execution_count": 81,
   "id": "5d7949dd",
   "metadata": {
    "scrolled": true
   },
   "outputs": [
    {
     "data": {
      "text/plain": [
       "<matplotlib.image.AxesImage at 0x1c53ce15b90>"
      ]
     },
     "execution_count": 81,
     "metadata": {},
     "output_type": "execute_result"
    },
    {
     "data": {
      "image/png": "[encoded data removed]",
      "text/plain": [
       "<Figure size 640x480 with 1 Axes>"
      ]
     },
     "metadata": {},
     "output_type": "display_data"
    }
   ],
   "source": [
    "plt.imshow(X_train[3344])"
   ]
  },
  {
   "cell_type": "code",
   "execution_count": 83,
   "id": "4283ac04",
   "metadata": {},
   "outputs": [],
   "source": [
    "fe_img=X_train[3254].reshape((1,)+X_train[3254].shape)"
   ]
  },
  {
   "cell_type": "code",
   "execution_count": 84,
   "id": "fa865f71",
   "metadata": {},
   "outputs": [
    {
     "data": {
      "text/plain": [
       "(1, 100, 100, 3)"
      ]
     },
     "execution_count": 84,
     "metadata": {},
     "output_type": "execute_result"
    }
   ],
   "source": [
    "fe_img.shape"
   ]
  },
  {
   "cell_type": "code",
   "execution_count": 85,
   "id": "ead44d87",
   "metadata": {},
   "outputs": [
    {
     "name": "stdout",
     "output_type": "stream",
     "text": [
      "1/1 [==============================] - 0s 56ms/step\n"
     ]
    },
    {
     "data": {
      "text/plain": [
       "array([[9.9930251e-01, 6.9750944e-04]], dtype=float32)"
      ]
     },
     "execution_count": 85,
     "metadata": {},
     "output_type": "execute_result"
    }
   ],
   "source": [
    "smodel.predict(fe_img)"
   ]
  },
  {
   "cell_type": "code",
   "execution_count": 86,
   "id": "bfb4fda7",
   "metadata": {},
   "outputs": [
    {
     "name": "stdout",
     "output_type": "stream",
     "text": [
      "1/1 [==============================] - 0s 64ms/step\n"
     ]
    },
    {
     "data": {
      "text/plain": [
       "0"
      ]
     },
     "execution_count": 86,
     "metadata": {},
     "output_type": "execute_result"
    }
   ],
   "source": [
    "np.argmax(smodel.predict(fe_img))"
   ]
  },
  {
   "cell_type": "code",
   "execution_count": null,
   "id": "5e2be79e",
   "metadata": {},
   "outputs": [],
   "source": []
  },
  {
   "cell_type": "code",
   "execution_count": null,
   "id": "32d8d1d5",
   "metadata": {},
   "outputs": [],
   "source": []
  },
  {
   "cell_type": "code",
   "execution_count": 87,
   "id": "aa52de28",
   "metadata": {
    "scrolled": false
   },
   "outputs": [
    {
     "data": {
      "text/plain": [
       "<matplotlib.image.AxesImage at 0x1c53d0d6ad0>"
      ]
     },
     "execution_count": 87,
     "metadata": {},
     "output_type": "execute_result"
    },
    {
     "data": {
      "image/png": "[encoded data removed]",
      "text/plain": [
       "<Figure size 640x480 with 1 Axes>"
      ]
     },
     "metadata": {},
     "output_type": "display_data"
    }
   ],
   "source": [
    "plt.imshow(X_train[3254])"
   ]
  },
  {
   "cell_type": "code",
   "execution_count": 114,
   "id": "3f33b8d9",
   "metadata": {},
   "outputs": [],
   "source": [
    "path_1=\"C:/Users/nvk90/Downloads/vamshi pass port photo.JPG\""
   ]
  },
  {
   "cell_type": "code",
   "execution_count": 115,
   "id": "cfa53fb7",
   "metadata": {},
   "outputs": [],
   "source": [
    "vam=cv2.imread(path_1)"
   ]
  },
  {
   "cell_type": "code",
   "execution_count": 116,
   "id": "e13b5d40",
   "metadata": {},
   "outputs": [],
   "source": [
    "vam=cv2.resize(vam,(100,100))"
   ]
  },
  {
   "cell_type": "code",
   "execution_count": 117,
   "id": "b211b636",
   "metadata": {},
   "outputs": [
    {
     "data": {
      "text/plain": [
       "(100, 100, 3)"
      ]
     },
     "execution_count": 117,
     "metadata": {},
     "output_type": "execute_result"
    }
   ],
   "source": [
    "vam.shape"
   ]
  },
  {
   "cell_type": "code",
   "execution_count": 118,
   "id": "806580e5",
   "metadata": {},
   "outputs": [],
   "source": [
    "vam_1=vam.reshape((1,)+vam.shape)"
   ]
  },
  {
   "cell_type": "code",
   "execution_count": 119,
   "id": "5ef15ac5",
   "metadata": {},
   "outputs": [
    {
     "data": {
      "text/plain": [
       "(1, 100, 100, 3)"
      ]
     },
     "execution_count": 119,
     "metadata": {},
     "output_type": "execute_result"
    }
   ],
   "source": [
    "vam_1.shape"
   ]
  },
  {
   "cell_type": "code",
   "execution_count": 120,
   "id": "8d0bb4fe",
   "metadata": {},
   "outputs": [
    {
     "name": "stdout",
     "output_type": "stream",
     "text": [
      "1/1 [==============================] - 0s 63ms/step\n"
     ]
    },
    {
     "data": {
      "text/plain": [
       "array([[0., 1.]], dtype=float32)"
      ]
     },
     "execution_count": 120,
     "metadata": {},
     "output_type": "execute_result"
    }
   ],
   "source": [
    "smodel.predict(vam_1)"
   ]
  },
  {
   "cell_type": "code",
   "execution_count": 122,
   "id": "adfb9ed0",
   "metadata": {},
   "outputs": [
    {
     "name": "stdout",
     "output_type": "stream",
     "text": [
      "1/1 [==============================] - 0s 48ms/step\n"
     ]
    },
    {
     "data": {
      "text/plain": [
       "1"
      ]
     },
     "execution_count": 122,
     "metadata": {},
     "output_type": "execute_result"
    }
   ],
   "source": [
    "np.argmax(smodel.predict(vam_1))"
   ]
  },
  {
   "cell_type": "code",
   "execution_count": 123,
   "id": "d086d2cc",
   "metadata": {},
   "outputs": [
    {
     "data": {
      "text/plain": [
       "<matplotlib.image.AxesImage at 0x1c540645610>"
      ]
     },
     "execution_count": 123,
     "metadata": {},
     "output_type": "execute_result"
    },
    {
     "data": {
      "image/png": "[encoded data removed]",
      "text/plain": [
       "<Figure size 640x480 with 1 Axes>"
      ]
     },
     "metadata": {},
     "output_type": "display_data"
    }
   ],
   "source": [
    "plt.imshow(vam)"
   ]
  },
  {
   "cell_type": "code",
   "execution_count": null,
   "id": "53c2dff6",
   "metadata": {},
   "outputs": [],
   "source": []
  }
 ],
 "metadata": {
  "kernelspec": {
   "display_name": "Python 3 (ipykernel)",
   "language": "python",
   "name": "python3"
  },
  "language_info": {
   "codemirror_mode": {
    "name": "ipython",
    "version": 3
   },
   "file_extension": ".py",
   "mimetype": "text/x-python",
   "name": "python",
   "nbconvert_exporter": "python",
   "pygments_lexer": "ipython3",
   "version": "3.11.3"
  }
 },
 "nbformat": 4,
 "nbformat_minor": 5
}
