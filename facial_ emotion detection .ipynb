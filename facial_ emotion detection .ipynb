{
 "cells": [
  {
   "cell_type": "code",
   "execution_count": 1,
   "id": "a7113dc8",
   "metadata": {},
   "outputs": [],
   "source": [
    "import cv2\n",
    "import pandas as pd\n",
    "import numpy as np\n",
    "import matplotlib.pyplot as plt\n",
    "import tensorflow as tf"
   ]
  },
  {
   "cell_type": "code",
   "execution_count": 40,
   "id": "28b3008e",
   "metadata": {},
   "outputs": [],
   "source": [
    "path=\"C:/Users/nvk90/OneDrive/Desktop/Facial_Emotion/Facial_Emotion/\""
   ]
  },
  {
   "cell_type": "raw",
   "id": "8f058528",
   "metadata": {},
   "source": []
  },
  {
   "cell_type": "code",
   "execution_count": 41,
   "id": "140dc774",
   "metadata": {},
   "outputs": [],
   "source": [
    "path_angry=path+\"angry/\""
   ]
  },
  {
   "cell_type": "code",
   "execution_count": 42,
   "id": "b03ca215",
   "metadata": {},
   "outputs": [],
   "source": [
    "path_disgust=path+\"disgust/\""
   ]
  },
  {
   "cell_type": "code",
   "execution_count": 43,
   "id": "01eddbad",
   "metadata": {},
   "outputs": [],
   "source": [
    "path_fear=path+\"fear/\""
   ]
  },
  {
   "cell_type": "code",
   "execution_count": 44,
   "id": "382b1a84",
   "metadata": {},
   "outputs": [],
   "source": [
    "path_happy=path+\"happy/\""
   ]
  },
  {
   "cell_type": "code",
   "execution_count": 45,
   "id": "948deeef",
   "metadata": {},
   "outputs": [],
   "source": [
    "path_neutral=path+\"neutral/\""
   ]
  },
  {
   "cell_type": "code",
   "execution_count": 46,
   "id": "6b5c3029",
   "metadata": {},
   "outputs": [],
   "source": [
    "path_sad=path+\"sad/\""
   ]
  },
  {
   "cell_type": "code",
   "execution_count": 47,
   "id": "cd474751",
   "metadata": {},
   "outputs": [],
   "source": [
    "path_surprise=path+\"surprise/\""
   ]
  },
  {
   "cell_type": "code",
   "execution_count": 48,
   "id": "8feafc0a",
   "metadata": {},
   "outputs": [],
   "source": [
    " name_list=[\"angry\",\"disgust\",\"fear\",\"happy\",\"neutral\",\"sad\",\"surprise\"]"
   ]
  },
  {
   "cell_type": "code",
   "execution_count": 49,
   "id": "6f19bc44",
   "metadata": {},
   "outputs": [],
   "source": [
    "path_list=[path_angry,path_disgust,path_fear,path_happy,path_neutral,path_sad,path_surprise]"
   ]
  },
  {
   "cell_type": "code",
   "execution_count": 50,
   "id": "fc31ef5b",
   "metadata": {},
   "outputs": [],
   "source": [
    "import os"
   ]
  },
  {
   "cell_type": "code",
   "execution_count": 51,
   "id": "8fc2e277",
   "metadata": {},
   "outputs": [],
   "source": [
    "img_dataset=[]\n",
    "img_label=[]"
   ]
  },
  {
   "cell_type": "code",
   "execution_count": 52,
   "id": "3d970038",
   "metadata": {
    "scrolled": true
   },
   "outputs": [],
   "source": [
    "for i in range(len(path_list)):\n",
    "    image_name=os.listdir(path_list[i])\n",
    "    for img in image_name:\n",
    "        image=cv2.imread(path_list[i]+img)\n",
    "        image=cv2.resize(image,(100,100))\n",
    "        img_dataset.append(np.array(image))\n",
    "        img_label.append(i)"
   ]
  },
  {
   "cell_type": "code",
   "execution_count": 54,
   "id": "8e2b902f",
   "metadata": {},
   "outputs": [
    {
     "data": {
      "text/plain": [
       "(28879, 28879)"
      ]
     },
     "execution_count": 54,
     "metadata": {},
     "output_type": "execute_result"
    }
   ],
   "source": [
    "len(img_dataset),len(img_label)"
   ]
  },
  {
   "cell_type": "code",
   "execution_count": 55,
   "id": "85b66508",
   "metadata": {},
   "outputs": [],
   "source": [
    "img_dataset_array=np.array(img_dataset)"
   ]
  },
  {
   "cell_type": "code",
   "execution_count": 56,
   "id": "b1fd5dd2",
   "metadata": {},
   "outputs": [],
   "source": [
    "img_label_array=np.array(img_label)"
   ]
  },
  {
   "cell_type": "code",
   "execution_count": 57,
   "id": "6b88dc1c",
   "metadata": {},
   "outputs": [],
   "source": [
    "X=img_dataset_array"
   ]
  },
  {
   "cell_type": "code",
   "execution_count": 58,
   "id": "b91af546",
   "metadata": {},
   "outputs": [],
   "source": [
    "y=img_label_array"
   ]
  },
  {
   "cell_type": "code",
   "execution_count": 59,
   "id": "d2d22e9a",
   "metadata": {},
   "outputs": [],
   "source": [
    "from sklearn.model_selection import train_test_split"
   ]
  },
  {
   "cell_type": "code",
   "execution_count": 60,
   "id": "0c6c6162",
   "metadata": {},
   "outputs": [],
   "source": [
    "X_train,X_test,y_train,y_test=train_test_split(X,y,test_size=0.20)"
   ]
  },
  {
   "cell_type": "code",
   "execution_count": 61,
   "id": "a519f228",
   "metadata": {},
   "outputs": [],
   "source": [
    "from tensorflow.keras.layers import Input,Conv2D,MaxPooling2D,Dropout,Flatten,Dense"
   ]
  },
  {
   "cell_type": "code",
   "execution_count": 62,
   "id": "b713e4e3",
   "metadata": {},
   "outputs": [],
   "source": [
    "from tensorflow.keras.models import Sequential"
   ]
  },
  {
   "cell_type": "code",
   "execution_count": 63,
   "id": "a6e2ca95",
   "metadata": {},
   "outputs": [],
   "source": [
    "smodel=Sequential()"
   ]
  },
  {
   "cell_type": "code",
   "execution_count": 64,
   "id": "fda7dd1d",
   "metadata": {},
   "outputs": [],
   "source": [
    "smodel.add(Input(shape=(100,100,3)))"
   ]
  },
  {
   "cell_type": "code",
   "execution_count": 65,
   "id": "782e2226",
   "metadata": {},
   "outputs": [],
   "source": [
    "smodel.add(Conv2D(filters=32,kernel_size=(3,3),activation=\"relu\",strides=(1,1),padding=\"valid\"))\n",
    "smodel.add(MaxPooling2D(pool_size=(2,2),strides=2,padding=\"valid\"))\n",
    "smodel.add(Dropout(0.20))"
   ]
  },
  {
   "cell_type": "code",
   "execution_count": 66,
   "id": "33e3fef9",
   "metadata": {},
   "outputs": [],
   "source": [
    "smodel.add(Conv2D(filters=32,kernel_size=(3,3),activation=\"relu\",strides=(1,1),padding=\"valid\"))\n",
    "smodel.add(MaxPooling2D(pool_size=(2,2),strides=2,padding=\"valid\"))\n",
    "smodel.add(Dropout(0.20))"
   ]
  },
  {
   "cell_type": "code",
   "execution_count": 67,
   "id": "a6afb0ad",
   "metadata": {},
   "outputs": [],
   "source": [
    "smodel.add(Conv2D(filters=32,kernel_size=(3,3),activation=\"relu\",strides=(1,1),padding=\"valid\"))\n",
    "smodel.add(MaxPooling2D(pool_size=(2,2),strides=2,padding=\"valid\"))\n",
    "smodel.add(Dropout(0.20))\n"
   ]
  },
  {
   "cell_type": "code",
   "execution_count": null,
   "id": "700da384",
   "metadata": {},
   "outputs": [],
   "source": []
  },
  {
   "cell_type": "code",
   "execution_count": 68,
   "id": "38d8ba87",
   "metadata": {},
   "outputs": [],
   "source": [
    "smodel.add(Flatten())\n",
    "smodel.add(Dense(units=256,activation=\"relu\"))\n",
    "smodel.add(Dense(units=128,activation=\"relu\"))\n",
    "smodel.add(Dense(units=64,activation=\"relu\"))\n",
    "smodel.add(Dense(units=32,activation=\"relu\"))\n",
    "smodel.add(Dense(units=16,activation=\"relu\"))\n",
    "smodel.add(Dense(units=8,activation=\"relu\"))\n",
    "smodel.add(Dense(units=16,activation=\"relu\"))\n",
    "smodel.add(Dense(units=32,activation=\"relu\"))\n",
    "smodel.add(Dense(units=32,activation=\"relu\"))\n",
    "smodel.add(Dense(units=64,activation=\"relu\"))\n",
    "smodel.add(Dense(units=128,activation=\"relu\"))\n",
    "smodel.add(Dense(units=256,activation=\"relu\"))\n",
    "smodel.add(Dense(units=10,activation=\"softmax\"))\n",
    "smodel.compile(optimizer=\"adam\",loss=\"sparse_categorical_crossentropy\",metrics=[\"accuracy\"])"
   ]
  },
  {
   "cell_type": "code",
   "execution_count": 70,
   "id": "813e840c",
   "metadata": {},
   "outputs": [
    {
     "name": "stdout",
     "output_type": "stream",
     "text": [
      "Epoch 1/5\n",
      "722/722 [==============================] - 156s 214ms/step - loss: 1.9555 - accuracy: 0.1688\n",
      "Epoch 2/5\n",
      "722/722 [==============================] - 129s 179ms/step - loss: 1.8966 - accuracy: 0.2050\n",
      "Epoch 3/5\n",
      "722/722 [==============================] - 133s 184ms/step - loss: 1.8293 - accuracy: 0.2481\n",
      "Epoch 4/5\n",
      "722/722 [==============================] - 161s 223ms/step - loss: 1.7056 - accuracy: 0.3103\n",
      "Epoch 5/5\n",
      "722/722 [==============================] - 162s 225ms/step - loss: 1.5575 - accuracy: 0.3609\n"
     ]
    },
    {
     "data": {
      "text/plain": [
       "<keras.src.callbacks.History at 0x130e9d5eed0>"
      ]
     },
     "execution_count": 70,
     "metadata": {},
     "output_type": "execute_result"
    }
   ],
   "source": [
    "smodel.fit(X_train,y_train,epochs=5)"
   ]
  },
  {
   "cell_type": "code",
   "execution_count": 71,
   "id": "a9e48a6f",
   "metadata": {},
   "outputs": [
    {
     "name": "stdout",
     "output_type": "stream",
     "text": [
      "181/181 [==============================] - 13s 68ms/step - loss: 1.4375 - accuracy: 0.3975\n"
     ]
    },
    {
     "data": {
      "text/plain": [
       "[1.4374656677246094, 0.3975069224834442]"
      ]
     },
     "execution_count": 71,
     "metadata": {},
     "output_type": "execute_result"
    }
   ],
   "source": [
    "smodel.evaluate(X_test,y_test)"
   ]
  },
  {
   "cell_type": "code",
   "execution_count": 72,
   "id": "d4f53ca9",
   "metadata": {},
   "outputs": [
    {
     "data": {
      "text/plain": [
       "array([[[45, 45, 45],\n",
       "        [46, 46, 46],\n",
       "        [48, 48, 48],\n",
       "        ...,\n",
       "        [63, 63, 63],\n",
       "        [65, 65, 65],\n",
       "        [66, 66, 66]],\n",
       "\n",
       "       [[44, 44, 44],\n",
       "        [45, 45, 45],\n",
       "        [47, 47, 47],\n",
       "        ...,\n",
       "        [63, 63, 63],\n",
       "        [65, 65, 65],\n",
       "        [66, 66, 66]],\n",
       "\n",
       "       [[42, 42, 42],\n",
       "        [43, 43, 43],\n",
       "        [46, 46, 46],\n",
       "        ...,\n",
       "        [62, 62, 62],\n",
       "        [65, 65, 65],\n",
       "        [67, 67, 67]],\n",
       "\n",
       "       ...,\n",
       "\n",
       "       [[34, 34, 34],\n",
       "        [34, 34, 34],\n",
       "        [35, 35, 35],\n",
       "        ...,\n",
       "        [33, 33, 33],\n",
       "        [33, 33, 33],\n",
       "        [33, 33, 33]],\n",
       "\n",
       "       [[31, 31, 31],\n",
       "        [31, 31, 31],\n",
       "        [30, 30, 30],\n",
       "        ...,\n",
       "        [32, 32, 32],\n",
       "        [32, 32, 32],\n",
       "        [32, 32, 32]],\n",
       "\n",
       "       [[30, 30, 30],\n",
       "        [29, 29, 29],\n",
       "        [28, 28, 28],\n",
       "        ...,\n",
       "        [32, 32, 32],\n",
       "        [32, 32, 32],\n",
       "        [32, 32, 32]]], dtype=uint8)"
      ]
     },
     "execution_count": 72,
     "metadata": {},
     "output_type": "execute_result"
    }
   ],
   "source": [
    "X_train[698]"
   ]
  },
  {
   "cell_type": "code",
   "execution_count": 73,
   "id": "9fd05ee4",
   "metadata": {},
   "outputs": [],
   "source": [
    "img_1=X_train[698].reshape((1,)+X_train[698].shape)"
   ]
  },
  {
   "cell_type": "code",
   "execution_count": 74,
   "id": "dc0ac31a",
   "metadata": {},
   "outputs": [
    {
     "data": {
      "text/plain": [
       "(1, 100, 100, 3)"
      ]
     },
     "execution_count": 74,
     "metadata": {},
     "output_type": "execute_result"
    }
   ],
   "source": [
    "img_1.shape"
   ]
  },
  {
   "cell_type": "code",
   "execution_count": 75,
   "id": "d6947782",
   "metadata": {},
   "outputs": [
    {
     "name": "stdout",
     "output_type": "stream",
     "text": [
      "1/1 [==============================] - 0s 455ms/step\n"
     ]
    },
    {
     "data": {
      "text/plain": [
       "array([[5.7371229e-02, 8.4761858e-01, 1.8502899e-02, 1.4119514e-02,\n",
       "        2.6293769e-02, 3.3474270e-02, 2.6197655e-03, 1.6020787e-09,\n",
       "        4.9642983e-09, 1.0838552e-09]], dtype=float32)"
      ]
     },
     "execution_count": 75,
     "metadata": {},
     "output_type": "execute_result"
    }
   ],
   "source": [
    "smodel.predict(img_1)"
   ]
  },
  {
   "cell_type": "code",
   "execution_count": 76,
   "id": "21d9800f",
   "metadata": {},
   "outputs": [
    {
     "name": "stdout",
     "output_type": "stream",
     "text": [
      "1/1 [==============================] - 0s 51ms/step\n"
     ]
    },
    {
     "data": {
      "text/plain": [
       "1"
      ]
     },
     "execution_count": 76,
     "metadata": {},
     "output_type": "execute_result"
    }
   ],
   "source": [
    "np.argmax(smodel.predict(img_1))"
   ]
  },
  {
   "cell_type": "code",
   "execution_count": 77,
   "id": "5537b6b9",
   "metadata": {},
   "outputs": [
    {
     "data": {
      "text/plain": [
       "'disgust'"
      ]
     },
     "execution_count": 77,
     "metadata": {},
     "output_type": "execute_result"
    }
   ],
   "source": [
    "name_list[1]"
   ]
  },
  {
   "cell_type": "code",
   "execution_count": 78,
   "id": "74b8a234",
   "metadata": {},
   "outputs": [
    {
     "data": {
      "text/plain": [
       "<matplotlib.image.AxesImage at 0x131184394d0>"
      ]
     },
     "execution_count": 78,
     "metadata": {},
     "output_type": "execute_result"
    },
    {
     "data": {
      "image/png": "[encoded data removed]",
      "text/plain": [
       "<Figure size 640x480 with 1 Axes>"
      ]
     },
     "metadata": {},
     "output_type": "display_data"
    }
   ],
   "source": [
    "plt.imshow(X_train[698])"
   ]
  },
  {
   "cell_type": "code",
   "execution_count": 79,
   "id": "d9b19887",
   "metadata": {},
   "outputs": [],
   "source": [
    "img_2=X_train[1698].reshape((1,)+X_train[1698].shape)"
   ]
  },
  {
   "cell_type": "code",
   "execution_count": 80,
   "id": "847347fc",
   "metadata": {},
   "outputs": [
    {
     "name": "stdout",
     "output_type": "stream",
     "text": [
      "1/1 [==============================] - 0s 56ms/step\n"
     ]
    },
    {
     "data": {
      "text/plain": [
       "array([[1.9823454e-01, 5.0531225e-03, 1.4992014e-01, 1.9784307e-01,\n",
       "        2.0298287e-01, 2.0187673e-01, 4.4079490e-02, 3.6283727e-06,\n",
       "        4.2626184e-06, 2.1378551e-06]], dtype=float32)"
      ]
     },
     "execution_count": 80,
     "metadata": {},
     "output_type": "execute_result"
    }
   ],
   "source": [
    "smodel.predict(img_2)"
   ]
  },
  {
   "cell_type": "code",
   "execution_count": 81,
   "id": "1119b4d6",
   "metadata": {},
   "outputs": [
    {
     "name": "stdout",
     "output_type": "stream",
     "text": [
      "1/1 [==============================] - 0s 58ms/step\n"
     ]
    },
    {
     "data": {
      "text/plain": [
       "4"
      ]
     },
     "execution_count": 81,
     "metadata": {},
     "output_type": "execute_result"
    }
   ],
   "source": [
    "np.argmax(smodel.predict(img_2))"
   ]
  },
  {
   "cell_type": "code",
   "execution_count": 82,
   "id": "c0760f94",
   "metadata": {},
   "outputs": [
    {
     "data": {
      "text/plain": [
       "'neutral'"
      ]
     },
     "execution_count": 82,
     "metadata": {},
     "output_type": "execute_result"
    }
   ],
   "source": [
    "name_list[4]"
   ]
  },
  {
   "cell_type": "code",
   "execution_count": 83,
   "id": "a74148c2",
   "metadata": {},
   "outputs": [
    {
     "data": {
      "text/plain": [
       "<matplotlib.image.AxesImage at 0x131441a9150>"
      ]
     },
     "execution_count": 83,
     "metadata": {},
     "output_type": "execute_result"
    },
    {
     "data": {
      "image/png": "[encoded data removed]",
      "text/plain": [
       "<Figure size 640x480 with 1 Axes>"
      ]
     },
     "metadata": {},
     "output_type": "display_data"
    }
   ],
   "source": [
    "plt.imshow(X_train[1698])"
   ]
  },
  {
   "cell_type": "code",
   "execution_count": null,
   "id": "3fc2fbc3",
   "metadata": {},
   "outputs": [],
   "source": []
  }
 ],
 "metadata": {
  "kernelspec": {
   "display_name": "Python 3 (ipykernel)",
   "language": "python",
   "name": "python3"
  },
  "language_info": {
   "codemirror_mode": {
    "name": "ipython",
    "version": 3
   },
   "file_extension": ".py",
   "mimetype": "text/x-python",
   "name": "python",
   "nbconvert_exporter": "python",
   "pygments_lexer": "ipython3",
   "version": "3.11.3"
  }
 },
 "nbformat": 4,
 "nbformat_minor": 5
}
